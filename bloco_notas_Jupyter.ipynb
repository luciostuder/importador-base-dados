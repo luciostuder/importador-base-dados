{
 "cells": [
  {
   "cell_type": "code",
   "execution_count": 3,
   "metadata": {},
   "outputs": [],
   "source": [
    "import csv\n",
    "\n",
    "f_om = input(\"indique o nome do ficheiro CSV da OM (sem 'csv'): \")\n",
    "f_input = input(\"indique o nome do ficheiro CSV do fornecedor (sem 'csv'): \")\n",
    "\n",
    "while True:\n",
    "    try:\n",
    "        coluna = int(input(\"indique em que coluna do ficheiro CSV do fornecedor está a referencia (1ª coluna: 1, 2ª coluna: 2, 3ª coluna: 3, ...): \"))\n",
    "        break\n",
    "    except:\n",
    "        pass\n",
    "\n",
    "\n",
    "with open(f_om + '.csv', encoding=\"utf-8\") as f:\n",
    "    reader = csv.reader(f)\n",
    "    \n",
    "    dic_refs = {}\n",
    "\n",
    "    for i, line in enumerate(reader):\n",
    "        if i != 0 and line[2] != '':\n",
    "            dic_refs[line[2]] = line[0] \n",
    "\n",
    "\n",
    "with open(f_input + '.csv') as f:\n",
    "    reader = csv.reader(f, delimiter=';')\n",
    "    \n",
    "    output = []\n",
    "    for i, line in enumerate(reader):\n",
    "\n",
    "        if i == 0:\n",
    "            output.append('handler;' + ';'.join(line))\n",
    "\n",
    "        elif line[coluna-1] in dic_refs:\n",
    "            output.append(f'{dic_refs[line[coluna-1]]};' + ';'.join(line))\n",
    "\n",
    "with open(f_input + '_filtrado.csv', 'w') as f:\n",
    "    for l in output:\n",
    "        f.write(l)\n",
    "        f.write('\\n')"
   ]
  },
  {
   "cell_type": "code",
   "execution_count": 4,
   "metadata": {},
   "outputs": [
    {
     "data": {
      "text/plain": [
       "'defghi'"
      ]
     },
     "execution_count": 4,
     "metadata": {},
     "output_type": "execute_result"
    }
   ],
   "source": [
    "fornecedor = 'VT-'\n",
    "\n",
    "\n",
    "\n",
    "letras = 'abcdefghi'\n",
    "\n",
    "letras[3:]"
   ]
  },
  {
   "cell_type": "code",
   "execution_count": 15,
   "metadata": {},
   "outputs": [
    {
     "data": {
      "text/plain": [
       "'VT-'"
      ]
     },
     "execution_count": 15,
     "metadata": {},
     "output_type": "execute_result"
    }
   ],
   "source": [
    "fornecedor = 'VT-'\n",
    "\n",
    "referencia_com_fornecedor = 'VT-12345'\n",
    "\n",
    "referencia_com_fornecedor[:len(fornecedor)]"
   ]
  },
  {
   "cell_type": "markdown",
   "metadata": {},
   "source": [
    "# Variáveis"
   ]
  },
  {
   "cell_type": "code",
   "execution_count": 23,
   "metadata": {},
   "outputs": [
    {
     "name": "stdout",
     "output_type": "stream",
     "text": [
      "15\n"
     ]
    }
   ],
   "source": [
    "a = 12 + 3\n",
    "\n",
    "print(a)"
   ]
  },
  {
   "cell_type": "code",
   "execution_count": 25,
   "metadata": {},
   "outputs": [
    {
     "name": "stdout",
     "output_type": "stream",
     "text": [
      "16\n"
     ]
    }
   ],
   "source": [
    "b = a + 1\n",
    "\n",
    "print(b)"
   ]
  },
  {
   "cell_type": "markdown",
   "metadata": {},
   "source": [
    "# Decisores if, elif, else"
   ]
  },
  {
   "cell_type": "code",
   "execution_count": 36,
   "metadata": {},
   "outputs": [
    {
     "name": "stdout",
     "output_type": "stream",
     "text": [
      "este número\n",
      "é positivo\n",
      "fim\n"
     ]
    }
   ],
   "source": [
    "a = 5\n",
    "b = 4\n",
    "b = 6\n",
    "\n",
    "n = 10\n",
    "\n",
    "\n",
    "if n > 0:\n",
    "    print('este número')\n",
    "    print('é positivo')\n",
    "else:\n",
    "    if n < 0:\n",
    "        print('este número')\n",
    "        print('é negativo')\n",
    "    else:\n",
    "        print('este número')\n",
    "        print('é 0')\n",
    "\n",
    "print('fim')"
   ]
  },
  {
   "cell_type": "code",
   "execution_count": 33,
   "metadata": {},
   "outputs": [
    {
     "name": "stdout",
     "output_type": "stream",
     "text": [
      "é positivo\n"
     ]
    }
   ],
   "source": [
    "n = int(input(\"Insira um número: \"))\n",
    "\n",
    "if n > 0:\n",
    "    print('é positivo')\n",
    "else:\n",
    "    if n < 0:\n",
    "        print('é negativo')\n",
    "    else:\n",
    "        print('é 0')"
   ]
  },
  {
   "cell_type": "code",
   "execution_count": null,
   "metadata": {},
   "outputs": [
    {
     "name": "stdout",
     "output_type": "stream",
     "text": [
      "30\n"
     ]
    }
   ],
   "source": [
    "lista = [10,20,30,40,50,60,70]\n",
    "\n",
    "soma = 0\n",
    "soma = soma + lista[0] # soma == 10\n",
    "soma = soma + lista[1] # soma == 30\n",
    "\n",
    "print(soma)"
   ]
  },
  {
   "cell_type": "code",
   "execution_count": null,
   "metadata": {},
   "outputs": [
    {
     "name": "stdout",
     "output_type": "stream",
     "text": [
      "Nuno, a soma vai em:  10\n",
      "Nuno, a soma vai em:  30\n",
      "Nuno, a soma vai em:  60\n",
      "Nuno, a soma vai em:  100\n",
      "Nuno, a soma vai em:  150\n",
      "Nuno, a soma vai em:  210\n",
      "Nuno, a soma vai em:  280\n",
      "soma final: 280\n"
     ]
    }
   ],
   "source": [
    "lista = [10,20,30,40,50,60,70]\n",
    "\n",
    "for numero in lista:\n",
    "    print(numero)"
   ]
  },
  {
   "cell_type": "code",
   "execution_count": null,
   "metadata": {},
   "outputs": [],
   "source": [
    "lista = [10,20,30,40,50,60,70]\n",
    "\n",
    "soma = 0\n",
    "for numero in lista:\n",
    "    print(numero)\n",
    "    soma = soma + numero\n",
    "    print('Nuno, a soma vai em: ', soma)\n",
    "\n",
    "\n",
    "print(\"soma final:\", soma)"
   ]
  },
  {
   "cell_type": "markdown",
   "metadata": {},
   "source": [
    "# Operações aritmeticas"
   ]
  },
  {
   "cell_type": "code",
   "execution_count": null,
   "metadata": {},
   "outputs": [
    {
     "data": {
      "text/plain": [
       "0"
      ]
     },
     "execution_count": 3,
     "metadata": {},
     "output_type": "execute_result"
    }
   ],
   "source": [
    "n = 0\n",
    "n"
   ]
  },
  {
   "cell_type": "code",
   "execution_count": null,
   "metadata": {},
   "outputs": [
    {
     "data": {
      "text/plain": [
       "10"
      ]
     },
     "execution_count": 4,
     "metadata": {},
     "output_type": "execute_result"
    }
   ],
   "source": [
    "n = n + 10\n",
    "n"
   ]
  },
  {
   "cell_type": "code",
   "execution_count": null,
   "metadata": {},
   "outputs": [
    {
     "data": {
      "text/plain": [
       "20"
      ]
     },
     "execution_count": 5,
     "metadata": {},
     "output_type": "execute_result"
    }
   ],
   "source": [
    "n = n + 10\n",
    "n"
   ]
  },
  {
   "cell_type": "markdown",
   "metadata": {},
   "source": [
    "# Strings"
   ]
  },
  {
   "cell_type": "code",
   "execution_count": null,
   "metadata": {},
   "outputs": [
    {
     "name": "stdout",
     "output_type": "stream",
     "text": [
      "E ele disse: 'acorda!'\n"
     ]
    }
   ],
   "source": [
    "print(\"E ele disse: 'acorda!'\")"
   ]
  },
  {
   "cell_type": "code",
   "execution_count": 16,
   "metadata": {},
   "outputs": [
    {
     "name": "stdout",
     "output_type": "stream",
     "text": [
      "e disse: \"adormece!\"\n"
     ]
    }
   ],
   "source": [
    "print('e disse: \"adormece!\"')"
   ]
  },
  {
   "cell_type": "code",
   "execution_count": null,
   "metadata": {},
   "outputs": [
    {
     "data": {
      "text/plain": [
       "5"
      ]
     },
     "execution_count": 8,
     "metadata": {},
     "output_type": "execute_result"
    }
   ],
   "source": [
    "palavra = 'abracadabra'\n",
    "\n",
    "palavra.count('a')"
   ]
  },
  {
   "cell_type": "code",
   "execution_count": null,
   "metadata": {},
   "outputs": [
    {
     "data": {
      "text/plain": [
       "'@br@c@d@br@'"
      ]
     },
     "execution_count": 9,
     "metadata": {},
     "output_type": "execute_result"
    }
   ],
   "source": [
    "palavra.replace('a', '@')"
   ]
  },
  {
   "cell_type": "code",
   "execution_count": 20,
   "metadata": {},
   "outputs": [
    {
     "data": {
      "text/plain": [
       "['10', '20', '30', '40', '50', '60', '70', '80', '90']"
      ]
     },
     "execution_count": 20,
     "metadata": {},
     "output_type": "execute_result"
    }
   ],
   "source": [
    "dados = '10.20.30.40.50.60.70.80.90'\n",
    "\n",
    "lista_numeros = dados.split('.')\n",
    "\n",
    "lista_numeros"
   ]
  },
  {
   "cell_type": "code",
   "execution_count": 21,
   "metadata": {},
   "outputs": [
    {
     "data": {
      "text/plain": [
       "'30'"
      ]
     },
     "execution_count": 21,
     "metadata": {},
     "output_type": "execute_result"
    }
   ],
   "source": [
    "lista_numeros[2]"
   ]
  },
  {
   "cell_type": "code",
   "execution_count": null,
   "metadata": {},
   "outputs": [
    {
     "data": {
      "text/plain": [
       "['Handle',\n",
       " 'Title',\n",
       " 'SKU',\n",
       " 'Barcode',\n",
       " '\"Option1 Name\"',\n",
       " '\"Option1 Value\"',\n",
       " '\"Option2 Name\"',\n",
       " '\"Option2 Value\"',\n",
       " '\"Option3 Name\"',\n",
       " '\"Option3 Value\"',\n",
       " '\"Option Active\"',\n",
       " 'Stock',\n",
       " 'Price',\n",
       " '\"Price Promo\"',\n",
       " 'Tax',\n",
       " 'Taxable',\n",
       " '\"Reduced Rate\"',\n",
       " 'Wholesale',\n",
       " '\"Price Wholesale\"',\n",
       " '\"Wholesale Exclusive\"']"
      ]
     },
     "execution_count": 10,
     "metadata": {},
     "output_type": "execute_result"
    }
   ],
   "source": [
    "h = 'Handle,Title,SKU,Barcode,\"Option1 Name\",\"Option1 Value\",\"Option2 Name\",\"Option2 Value\",\"Option3 Name\",\"Option3 Value\",\"Option Active\",Stock,Price,\"Price Promo\",Tax,Taxable,\"Reduced Rate\",Wholesale,\"Price Wholesale\",\"Wholesale Exclusive\"'\n",
    "\n",
    "h.split(',')"
   ]
  },
  {
   "cell_type": "code",
   "execution_count": null,
   "metadata": {},
   "outputs": [
    {
     "data": {
      "text/plain": [
       "'dominante-conjunto,\"Dominante - Violino\",,,Tamanho,4/4,Corda,\"Mi - Aço e cromo\",Tensão,Light,true,,4.5,,23,true,,false,,false'"
      ]
     },
     "execution_count": 11,
     "metadata": {},
     "output_type": "execute_result"
    }
   ],
   "source": [
    "linha = 'dominante-conjunto,\"Dominante - Violino\",,,Tamanho,4/4,Corda,\"Mi - Aço e cromo\",Tensão,Light,true,,4.5,,23,true,,false,,false'\n",
    "\n",
    "linha"
   ]
  },
  {
   "cell_type": "code",
   "execution_count": null,
   "metadata": {},
   "outputs": [
    {
     "name": "stdout",
     "output_type": "stream",
     "text": [
      "['dominante-conjunto', '\"Dominante - Violino\"', '', '', 'Tamanho', '4/4', 'Corda', '\"Mi - Aço e cromo\"', 'Tensão', 'Light', 'true', '', '4.5', '', '23', 'true', '', 'false', '', 'false']\n"
     ]
    }
   ],
   "source": [
    "items = linha.split(',')\n",
    "print(items)"
   ]
  },
  {
   "cell_type": "code",
   "execution_count": null,
   "metadata": {},
   "outputs": [
    {
     "name": "stdout",
     "output_type": "stream",
     "text": [
      "dominante-conjunto\n",
      "\"Dominante - Violino\"\n",
      "\n",
      "\n",
      "Tamanho\n",
      "4/4\n",
      "Corda\n",
      "\"Mi - Aço e cromo\"\n",
      "Tensão\n",
      "Light\n",
      "true\n",
      "\n",
      "4.5\n",
      "\n",
      "23\n",
      "true\n",
      "\n",
      "false\n",
      "\n",
      "false\n"
     ]
    }
   ],
   "source": [
    "for elemento in items:\n",
    "    print(elemento)"
   ]
  },
  {
   "cell_type": "markdown",
   "metadata": {},
   "source": [
    "### Concatenação de strings"
   ]
  },
  {
   "cell_type": "code",
   "execution_count": null,
   "metadata": {},
   "outputs": [
    {
     "data": {
      "text/plain": [
       "'VT-A123456'"
      ]
     },
     "execution_count": 14,
     "metadata": {},
     "output_type": "execute_result"
    }
   ],
   "source": [
    "referencia = 'A123456'\n",
    "\n",
    "prefixo = 'VT-'\n",
    "\n",
    "ref = prefixo + referencia\n",
    "\n",
    "ref"
   ]
  },
  {
   "cell_type": "code",
   "execution_count": 15,
   "metadata": {},
   "outputs": [
    {
     "name": "stdout",
     "output_type": "stream",
     "text": [
      "este programa insere um prefixo em todas as referencias do ficheiro do fornecedor VT\n"
     ]
    },
    {
     "ename": "KeyboardInterrupt",
     "evalue": "Interrupted by user",
     "output_type": "error",
     "traceback": [
      "\u001b[1;31m---------------------------------------------------------------------------\u001b[0m",
      "\u001b[1;31mKeyboardInterrupt\u001b[0m                         Traceback (most recent call last)",
      "Cell \u001b[1;32mIn[15], line 6\u001b[0m\n\u001b[0;32m      3\u001b[0m \u001b[39m# dados de entrada \u001b[39;00m\n\u001b[0;32m      5\u001b[0m \u001b[39mprint\u001b[39m(\u001b[39m'\u001b[39m\u001b[39meste programa insere um prefixo em todas as referencias do ficheiro do fornecedor VT\u001b[39m\u001b[39m'\u001b[39m)\n\u001b[1;32m----> 6\u001b[0m prefixo \u001b[39m=\u001b[39m \u001b[39minput\u001b[39;49m(\u001b[39m\"\u001b[39;49m\u001b[39mindique o prefixo: \u001b[39;49m\u001b[39m\"\u001b[39;49m)\n\u001b[0;32m      7\u001b[0m ficheiro \u001b[39m=\u001b[39m \u001b[39minput\u001b[39m(\u001b[39m\"\u001b[39m\u001b[39mindique o nome do ficheiro (sem \u001b[39m\u001b[39m'\u001b[39m\u001b[39m.csv\u001b[39m\u001b[39m'\u001b[39m\u001b[39m):\u001b[39m\u001b[39m\"\u001b[39m)\n\u001b[0;32m      9\u001b[0m \u001b[39m# processamento\u001b[39;00m\n\u001b[0;32m     10\u001b[0m \n\u001b[0;32m     11\u001b[0m \n\u001b[0;32m     12\u001b[0m \u001b[39m# 1. leitura do ficheiro\u001b[39;00m\n",
      "File \u001b[1;32m~\\AppData\\Local\\Packages\\PythonSoftwareFoundation.Python.3.11_qbz5n2kfra8p0\\LocalCache\\local-packages\\Python311\\site-packages\\ipykernel\\kernelbase.py:1191\u001b[0m, in \u001b[0;36mKernel.raw_input\u001b[1;34m(self, prompt)\u001b[0m\n\u001b[0;32m   1189\u001b[0m     msg \u001b[39m=\u001b[39m \u001b[39m\"\u001b[39m\u001b[39mraw_input was called, but this frontend does not support input requests.\u001b[39m\u001b[39m\"\u001b[39m\n\u001b[0;32m   1190\u001b[0m     \u001b[39mraise\u001b[39;00m StdinNotImplementedError(msg)\n\u001b[1;32m-> 1191\u001b[0m \u001b[39mreturn\u001b[39;00m \u001b[39mself\u001b[39;49m\u001b[39m.\u001b[39;49m_input_request(\n\u001b[0;32m   1192\u001b[0m     \u001b[39mstr\u001b[39;49m(prompt),\n\u001b[0;32m   1193\u001b[0m     \u001b[39mself\u001b[39;49m\u001b[39m.\u001b[39;49m_parent_ident[\u001b[39m\"\u001b[39;49m\u001b[39mshell\u001b[39;49m\u001b[39m\"\u001b[39;49m],\n\u001b[0;32m   1194\u001b[0m     \u001b[39mself\u001b[39;49m\u001b[39m.\u001b[39;49mget_parent(\u001b[39m\"\u001b[39;49m\u001b[39mshell\u001b[39;49m\u001b[39m\"\u001b[39;49m),\n\u001b[0;32m   1195\u001b[0m     password\u001b[39m=\u001b[39;49m\u001b[39mFalse\u001b[39;49;00m,\n\u001b[0;32m   1196\u001b[0m )\n",
      "File \u001b[1;32m~\\AppData\\Local\\Packages\\PythonSoftwareFoundation.Python.3.11_qbz5n2kfra8p0\\LocalCache\\local-packages\\Python311\\site-packages\\ipykernel\\kernelbase.py:1234\u001b[0m, in \u001b[0;36mKernel._input_request\u001b[1;34m(self, prompt, ident, parent, password)\u001b[0m\n\u001b[0;32m   1231\u001b[0m \u001b[39mexcept\u001b[39;00m \u001b[39mKeyboardInterrupt\u001b[39;00m:\n\u001b[0;32m   1232\u001b[0m     \u001b[39m# re-raise KeyboardInterrupt, to truncate traceback\u001b[39;00m\n\u001b[0;32m   1233\u001b[0m     msg \u001b[39m=\u001b[39m \u001b[39m\"\u001b[39m\u001b[39mInterrupted by user\u001b[39m\u001b[39m\"\u001b[39m\n\u001b[1;32m-> 1234\u001b[0m     \u001b[39mraise\u001b[39;00m \u001b[39mKeyboardInterrupt\u001b[39;00m(msg) \u001b[39mfrom\u001b[39;00m \u001b[39mNone\u001b[39;00m\n\u001b[0;32m   1235\u001b[0m \u001b[39mexcept\u001b[39;00m \u001b[39mException\u001b[39;00m:\n\u001b[0;32m   1236\u001b[0m     \u001b[39mself\u001b[39m\u001b[39m.\u001b[39mlog\u001b[39m.\u001b[39mwarning(\u001b[39m\"\u001b[39m\u001b[39mInvalid Message:\u001b[39m\u001b[39m\"\u001b[39m, exc_info\u001b[39m=\u001b[39m\u001b[39mTrue\u001b[39;00m)\n",
      "\u001b[1;31mKeyboardInterrupt\u001b[0m: Interrupted by user"
     ]
    }
   ],
   "source": [
    "import csv\n",
    "\n",
    "# dados de entrada \n",
    "\n",
    "print('este programa insere um prefixo em todas as referencias do ficheiro do fornecedor VT')\n",
    "prefixo = input(\"indique o prefixo: \")\n",
    "ficheiro = input(\"indique o nome do ficheiro (sem '.csv'):\")\n",
    "\n",
    "# processamento\n",
    "\n",
    "\n",
    "# 1. leitura do ficheiro\n",
    "f = open(ficheiro + '.csv')\n",
    "linhas = list(csv.reader(f, delimiter=';'))\n",
    "f.close()\n",
    "\n",
    "# 2. atualização das referencias\n",
    "quantidade_de_linhas = len(linhas) \n",
    "\n",
    "for i in range(1, quantidade_de_linhas):\n",
    "    linhas[i][1] = prefixo + linhas[i][1]\n",
    "\n",
    "# criação de novo ficheiro com prefixos\n",
    "f = open(ficheiro + '_com_prefixo.csv', 'w')\n",
    "for linha in linhas:\n",
    "    f.write(';'.join(linha))\n",
    "    f.write('\\n')\n",
    "f.close()"
   ]
  },
  {
   "cell_type": "markdown",
   "metadata": {},
   "source": [
    "# Listas"
   ]
  },
  {
   "cell_type": "code",
   "execution_count": null,
   "metadata": {},
   "outputs": [
    {
     "name": "stdout",
     "output_type": "stream",
     "text": [
      "10\n",
      "20\n",
      "30\n",
      "40\n",
      "50\n"
     ]
    }
   ],
   "source": [
    "lista = [10,20,30,40,50]\n",
    "\n",
    "for elemento in lista:\n",
    "    print(elemento)"
   ]
  },
  {
   "cell_type": "code",
   "execution_count": null,
   "metadata": {},
   "outputs": [
    {
     "data": {
      "text/plain": [
       "30"
      ]
     },
     "execution_count": 94,
     "metadata": {},
     "output_type": "execute_result"
    }
   ],
   "source": [
    "lista = [10,20,30,40,50]\n",
    "\n",
    "for i in [0,1,2,3,4]:\n",
    "    print(lista[i])\n",
    "    print('proximo')"
   ]
  },
  {
   "cell_type": "code",
   "execution_count": null,
   "metadata": {},
   "outputs": [
    {
     "name": "stdout",
     "output_type": "stream",
     "text": [
      "0 10\n",
      "1 20\n",
      "2 30\n",
      "3 40\n",
      "4 50\n"
     ]
    }
   ],
   "source": [
    "lista = [10,20,30,40,50]\n",
    "\n",
    "for i in [0,1,2,3,4]:\n",
    "    print(i, lista[i])"
   ]
  },
  {
   "cell_type": "code",
   "execution_count": null,
   "metadata": {},
   "outputs": [
    {
     "name": "stdout",
     "output_type": "stream",
     "text": [
      "10\n",
      "20\n",
      "30\n",
      "40\n",
      "50\n"
     ]
    }
   ],
   "source": [
    "lista = [10,20,30,40,50]\n",
    "\n",
    "for i in range(len(lista)):\n",
    "    print(lista[i])"
   ]
  },
  {
   "cell_type": "code",
   "execution_count": null,
   "metadata": {},
   "outputs": [
    {
     "data": {
      "text/plain": [
       "30"
      ]
     },
     "execution_count": 96,
     "metadata": {},
     "output_type": "execute_result"
    }
   ],
   "source": [
    "lista = [10,20,30,40,50]\n",
    "\n",
    "i = 2\n",
    "\n",
    "lista[i]"
   ]
  },
  {
   "cell_type": "code",
   "execution_count": null,
   "metadata": {},
   "outputs": [
    {
     "name": "stdout",
     "output_type": "stream",
     "text": [
      "0\n",
      "1\n",
      "2\n",
      "3\n",
      "4\n"
     ]
    }
   ],
   "source": [
    "for i in range(5):\n",
    "    print(i)"
   ]
  },
  {
   "cell_type": "code",
   "execution_count": null,
   "metadata": {},
   "outputs": [
    {
     "data": {
      "text/plain": [
       "'a;b;c;d'"
      ]
     },
     "execution_count": 111,
     "metadata": {},
     "output_type": "execute_result"
    }
   ],
   "source": [
    "lista = ['a','b','c','d']\n",
    "\n",
    "';'.join(lista)"
   ]
  },
  {
   "cell_type": "markdown",
   "metadata": {},
   "source": [
    "# Dicionarios\n",
    "\n",
    "nesta secção aprendemos como funcionam os dicionarios"
   ]
  },
  {
   "cell_type": "code",
   "execution_count": null,
   "metadata": {},
   "outputs": [],
   "source": [
    "idades = {\n",
    "    'Pedro': 7,\n",
    "    'Clara': 6,\n",
    "    'Sebastiao': 12\n",
    "}"
   ]
  },
  {
   "cell_type": "code",
   "execution_count": null,
   "metadata": {},
   "outputs": [
    {
     "data": {
      "text/plain": [
       "6"
      ]
     },
     "execution_count": 115,
     "metadata": {},
     "output_type": "execute_result"
    }
   ],
   "source": [
    "idades['Clara']"
   ]
  },
  {
   "cell_type": "code",
   "execution_count": null,
   "metadata": {},
   "outputs": [],
   "source": [
    "idades['Pedro'] = 8"
   ]
  },
  {
   "cell_type": "code",
   "execution_count": null,
   "metadata": {},
   "outputs": [],
   "source": [
    "idades['Aurora'] = 16"
   ]
  },
  {
   "cell_type": "code",
   "execution_count": null,
   "metadata": {},
   "outputs": [
    {
     "data": {
      "text/plain": [
       "{'Pedro': 8, 'Clara': 6, 'Sebastiao': 12, 'Aurora': 16}"
      ]
     },
     "execution_count": 119,
     "metadata": {},
     "output_type": "execute_result"
    }
   ],
   "source": [
    "idades"
   ]
  },
  {
   "cell_type": "code",
   "execution_count": null,
   "metadata": {},
   "outputs": [
    {
     "name": "stdout",
     "output_type": "stream",
     "text": [
      "O Aurora tem 16 anos\n"
     ]
    }
   ],
   "source": [
    "idade_pesquisa = 16\n",
    "\n",
    "for nome,idade in idades.items():\n",
    "    if idade == idade_pesquisa:\n",
    "        print(f\"O {nome} tem {idade_pesquisa} anos\")"
   ]
  },
  {
   "cell_type": "code",
   "execution_count": null,
   "metadata": {},
   "outputs": [
    {
     "data": {
      "text/plain": [
       "('Pedro', 7)"
      ]
     },
     "execution_count": 129,
     "metadata": {},
     "output_type": "execute_result"
    }
   ],
   "source": [
    "\n",
    "\n",
    "lista[0]"
   ]
  },
  {
   "cell_type": "code",
   "execution_count": null,
   "metadata": {},
   "outputs": [
    {
     "name": "stdout",
     "output_type": "stream",
     "text": [
      "O Pedr3 tem 8 anos\n",
      "A Clara tem 6 anos\n",
      "O Sebastiao tem 12 anos\n",
      "A Aurora tem 16 anos\n"
     ]
    }
   ],
   "source": [
    "idades = {'Pedr3': 8, 'Clara': 6, 'Sebastiao': 12, 'Aurora': 16}\n",
    "\n",
    "for nome,idade in idades.items():\n",
    "    if nome[-1] == 'a':\n",
    "        print('A', end=' ')\n",
    "    else:\n",
    "        print('O', end=' ')\n",
    "\n",
    "    print(f\"{nome} tem {idade} anos\")"
   ]
  },
  {
   "cell_type": "markdown",
   "metadata": {},
   "source": [
    "# Listas compostas"
   ]
  },
  {
   "cell_type": "code",
   "execution_count": null,
   "metadata": {},
   "outputs": [
    {
     "name": "stdout",
     "output_type": "stream",
     "text": [
      "Pedro\n",
      "Clara\n"
     ]
    }
   ],
   "source": [
    "lista = [\n",
    "    ('Pedro', 7),\n",
    "    ('Sebastiao', 12),\n",
    "    ('Clara', 7),\n",
    "]\n",
    "\n",
    "for elemento in lista:\n",
    "    if elemento[1] == 7:\n",
    "        print(elemento[0])"
   ]
  },
  {
   "cell_type": "code",
   "execution_count": null,
   "metadata": {},
   "outputs": [],
   "source": []
  }
 ],
 "metadata": {
  "kernelspec": {
   "display_name": "Python 3",
   "language": "python",
   "name": "python3"
  },
  "language_info": {
   "codemirror_mode": {
    "name": "ipython",
    "version": 3
   },
   "file_extension": ".py",
   "mimetype": "text/x-python",
   "name": "python",
   "nbconvert_exporter": "python",
   "pygments_lexer": "ipython3",
   "version": "3.11.4"
  },
  "orig_nbformat": 4
 },
 "nbformat": 4,
 "nbformat_minor": 2
}
